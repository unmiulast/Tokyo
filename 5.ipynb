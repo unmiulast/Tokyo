{
  "nbformat": 4,
  "nbformat_minor": 0,
  "metadata": {
    "colab": {
      "provenance": [],
      "authorship_tag": "ABX9TyN1YdgnZZjcl/CuJObOPk1b",
      "include_colab_link": true
    },
    "kernelspec": {
      "name": "python3",
      "display_name": "Python 3"
    },
    "language_info": {
      "name": "python"
    }
  },
  "cells": [
    {
      "cell_type": "markdown",
      "metadata": {
        "id": "view-in-github",
        "colab_type": "text"
      },
      "source": [
        "<a href=\"https://colab.research.google.com/github/unmiulast/Tokyo/blob/main/5.ipynb\" target=\"_parent\"><img src=\"https://colab.research.google.com/assets/colab-badge.svg\" alt=\"Open In Colab\"/></a>"
      ]
    },
    {
      "cell_type": "code",
      "execution_count": 1,
      "metadata": {
        "colab": {
          "base_uri": "https://localhost:8080/",
          "height": 35
        },
        "id": "xyffGMTGLBnl",
        "outputId": "161c4de4-6f32-4477-e570-d9292c4e07d9"
      },
      "outputs": [
        {
          "output_type": "execute_result",
          "data": {
            "text/plain": [
              "'%.3f'"
            ],
            "application/vnd.google.colaboratory.intrinsic+json": {
              "type": "string"
            }
          },
          "metadata": {},
          "execution_count": 1
        }
      ],
      "source": [
        "import numpy as np\n",
        "import numpy.random as random\n",
        "import scipy as sp\n",
        "\n",
        "import matplotlib.pyplot as plt\n",
        "import matplotlib as mpl\n",
        "%matplotlib inline\n",
        "\n",
        "%precision 3"
      ]
    },
    {
      "cell_type": "code",
      "source": [
        "sample_array = np.arange(10)\n",
        "print('sample_array:',sample_array)"
      ],
      "metadata": {
        "colab": {
          "base_uri": "https://localhost:8080/"
        },
        "id": "L2FuEcLtL5Qy",
        "outputId": "1c9ac96d-5be1-4fa4-f2da-2590fc636416"
      },
      "execution_count": 2,
      "outputs": [
        {
          "output_type": "stream",
          "name": "stdout",
          "text": [
            "sample_array: [0 1 2 3 4 5 6 7 8 9]\n"
          ]
        }
      ]
    },
    {
      "cell_type": "code",
      "source": [
        "print(sample_array)\n",
        "\n",
        "sample_array_slice = sample_array[0:5]\n",
        "print(sample_array_slice)"
      ],
      "metadata": {
        "colab": {
          "base_uri": "https://localhost:8080/"
        },
        "id": "hCk_uSyQMRCt",
        "outputId": "7d739408-073a-4c90-bde0-a615a7f723fb"
      },
      "execution_count": 3,
      "outputs": [
        {
          "output_type": "stream",
          "name": "stdout",
          "text": [
            "[0 1 2 3 4 5 6 7 8 9]\n",
            "[0 1 2 3 4]\n"
          ]
        }
      ]
    },
    {
      "cell_type": "code",
      "source": [
        "sample_array_slice[0:3] = 10\n",
        "print(sample_array_slice)\n",
        "\n",
        "print(sample_array)"
      ],
      "metadata": {
        "colab": {
          "base_uri": "https://localhost:8080/"
        },
        "id": "iE7jlsDNMiUw",
        "outputId": "c0546b20-363a-4723-abe4-d050993c8396"
      },
      "execution_count": 4,
      "outputs": [
        {
          "output_type": "stream",
          "name": "stdout",
          "text": [
            "[10 10 10  3  4]\n",
            "[10 10 10  3  4  5  6  7  8  9]\n"
          ]
        }
      ]
    },
    {
      "cell_type": "markdown",
      "source": [
        "元のリストも変更される\n",
        "\n",
        "コピーではなく参照しているから\n"
      ],
      "metadata": {
        "id": "mgZieZv2M8n2"
      }
    },
    {
      "cell_type": "code",
      "source": [
        "sample_array_copy = np.copy(sample_array)\n",
        "print(sample_array_copy)\n",
        "\n",
        "sample_array_copy[0:3] = 20\n",
        "\n",
        "print(sample_array_copy)\n",
        "print(sample_array)"
      ],
      "metadata": {
        "colab": {
          "base_uri": "https://localhost:8080/"
        },
        "id": "dtbU6oKgM5dK",
        "outputId": "32824fdf-ad59-499a-e260-e43f3ca85f30"
      },
      "execution_count": 5,
      "outputs": [
        {
          "output_type": "stream",
          "name": "stdout",
          "text": [
            "[10 10 10  3  4  5  6  7  8  9]\n",
            "[20 20 20  3  4  5  6  7  8  9]\n",
            "[10 10 10  3  4  5  6  7  8  9]\n"
          ]
        }
      ]
    },
    {
      "cell_type": "markdown",
      "source": [
        "コピーしているので元のリストは変更されない\n"
      ],
      "metadata": {
        "id": "mW1nID2CNzz-"
      }
    },
    {
      "cell_type": "code",
      "source": [
        "sample_names = np.array(['a', 'b', 'c', 'd', 'a'])\n",
        "random.seed(0)\n",
        "data = random.randn(5,5)\n",
        "print(sample_names)\n",
        "print(data)"
      ],
      "metadata": {
        "colab": {
          "base_uri": "https://localhost:8080/"
        },
        "id": "x8xZ04_zNwwG",
        "outputId": "a437d7bf-27b9-4dad-dcee-b8425e0eccdc"
      },
      "execution_count": 6,
      "outputs": [
        {
          "output_type": "stream",
          "name": "stdout",
          "text": [
            "['a' 'b' 'c' 'd' 'a']\n",
            "[[ 1.764  0.4    0.979  2.241  1.868]\n",
            " [-0.977  0.95  -0.151 -0.103  0.411]\n",
            " [ 0.144  1.454  0.761  0.122  0.444]\n",
            " [ 0.334  1.494 -0.205  0.313 -0.854]\n",
            " [-2.553  0.654  0.864 -0.742  2.27 ]]\n"
          ]
        }
      ]
    },
    {
      "cell_type": "code",
      "source": [
        "sample_names == 'a'"
      ],
      "metadata": {
        "colab": {
          "base_uri": "https://localhost:8080/"
        },
        "id": "1LpeaDgnOmcw",
        "outputId": "da042b27-505d-4c13-eb13-6558e21ca427"
      },
      "execution_count": 7,
      "outputs": [
        {
          "output_type": "execute_result",
          "data": {
            "text/plain": [
              "array([ True, False, False, False,  True])"
            ]
          },
          "metadata": {},
          "execution_count": 7
        }
      ]
    },
    {
      "cell_type": "code",
      "source": [
        "data[sample_names == 'a']"
      ],
      "metadata": {
        "colab": {
          "base_uri": "https://localhost:8080/"
        },
        "id": "RX9waT-eO8ia",
        "outputId": "df3501da-55ac-4c23-9429-714f9372653a"
      },
      "execution_count": 8,
      "outputs": [
        {
          "output_type": "execute_result",
          "data": {
            "text/plain": [
              "array([[ 1.764,  0.4  ,  0.979,  2.241,  1.868],\n",
              "       [-2.553,  0.654,  0.864, -0.742,  2.27 ]])"
            ]
          },
          "metadata": {},
          "execution_count": 8
        }
      ]
    },
    {
      "cell_type": "markdown",
      "source": [
        "0,4番目がTrueなので0,4番目の列が取り出される\n"
      ],
      "metadata": {
        "id": "ftHT1KLFPQFT"
      }
    },
    {
      "cell_type": "code",
      "source": [
        "data[sample_names == 'b']"
      ],
      "metadata": {
        "colab": {
          "base_uri": "https://localhost:8080/"
        },
        "id": "9cfjtLtnRyRs",
        "outputId": "b94218e5-6f3e-4afe-e483-b51c684581b7"
      },
      "execution_count": 9,
      "outputs": [
        {
          "output_type": "execute_result",
          "data": {
            "text/plain": [
              "array([[-0.977,  0.95 , -0.151, -0.103,  0.411]])"
            ]
          },
          "metadata": {},
          "execution_count": 9
        }
      ]
    },
    {
      "cell_type": "code",
      "source": [
        "data[sample_names != 'c']"
      ],
      "metadata": {
        "colab": {
          "base_uri": "https://localhost:8080/"
        },
        "id": "mSaiBnNqSDTi",
        "outputId": "8b8c1b26-6ce7-4654-92df-e85b888f8a4d"
      },
      "execution_count": 10,
      "outputs": [
        {
          "output_type": "execute_result",
          "data": {
            "text/plain": [
              "array([[ 1.764,  0.4  ,  0.979,  2.241,  1.868],\n",
              "       [-0.977,  0.95 , -0.151, -0.103,  0.411],\n",
              "       [ 0.334,  1.494, -0.205,  0.313, -0.854],\n",
              "       [-2.553,  0.654,  0.864, -0.742,  2.27 ]])"
            ]
          },
          "metadata": {},
          "execution_count": 10
        }
      ]
    },
    {
      "cell_type": "code",
      "source": [
        "cond_data = np.array([True, True, False, False, True])\n",
        "\n",
        "x_array = np.array([1, 2, 3, 4, 5])\n",
        "y_array = np.array([100, 200, 300, 400, 500])\n",
        "\n",
        "print(np.where(cond_data, x_array, y_array))"
      ],
      "metadata": {
        "colab": {
          "base_uri": "https://localhost:8080/"
        },
        "id": "7rb6UAxhPMTb",
        "outputId": "970ade2f-aed8-49ef-cdb3-cd8524f3bcfc"
      },
      "execution_count": 11,
      "outputs": [
        {
          "output_type": "stream",
          "name": "stdout",
          "text": [
            "[  1   2 300 400   5]\n"
          ]
        }
      ]
    },
    {
      "cell_type": "markdown",
      "source": [
        "numpy.where（条件の配列，Xのデータ，Yのデータ）\n",
        "\n",
        "条件の配列がTrueならXのデータから，FalseならYのデータから取り出す\n"
      ],
      "metadata": {
        "id": "okoRkV4dRNyr"
      }
    },
    {
      "cell_type": "code",
      "source": [
        "cond_data = np.array([False, False, True, True, False])\n",
        "\n",
        "x_array = np.array([1, 2, 3, 4, 5])\n",
        "y_array = np.array([6, 7, 8, 9, 10])\n",
        "\n",
        "print(np.where(cond_data, x_array, y_array))"
      ],
      "metadata": {
        "colab": {
          "base_uri": "https://localhost:8080/"
        },
        "id": "V2mrKS9rQ7Zz",
        "outputId": "fe82e3d4-d381-482c-808e-13db879ef867"
      },
      "execution_count": 12,
      "outputs": [
        {
          "output_type": "stream",
          "name": "stdout",
          "text": [
            "[ 6  7  3  4 10]\n"
          ]
        }
      ]
    },
    {
      "cell_type": "code",
      "source": [
        "print(cond_data)\n",
        "\n",
        "print(np.unique(cond_data))"
      ],
      "metadata": {
        "colab": {
          "base_uri": "https://localhost:8080/"
        },
        "id": "GaMxpiCeS_dK",
        "outputId": "c1156885-e5b5-460f-a874-c0f5cdf38e62"
      },
      "execution_count": 13,
      "outputs": [
        {
          "output_type": "stream",
          "name": "stdout",
          "text": [
            "[False False  True  True False]\n",
            "[False  True]\n"
          ]
        }
      ]
    },
    {
      "cell_type": "code",
      "source": [
        "sample_data = np.arange(10)\n",
        "\n",
        "print('元データ:', sample_data)\n",
        "\n",
        "print('平方根:', np.sqrt(sample_data))\n",
        "\n",
        "print('ネイピア指数関数:', np.exp(sample_data))"
      ],
      "metadata": {
        "colab": {
          "base_uri": "https://localhost:8080/"
        },
        "id": "cKCYok4pTetW",
        "outputId": "8f5de8fa-c3e9-4d8d-ecff-da8fa163e617"
      },
      "execution_count": 14,
      "outputs": [
        {
          "output_type": "stream",
          "name": "stdout",
          "text": [
            "元データ: [0 1 2 3 4 5 6 7 8 9]\n",
            "平方根: [0.    1.    1.414 1.732 2.    2.236 2.449 2.646 2.828 3.   ]\n",
            "ネイピア指数関数: [1.000e+00 2.718e+00 7.389e+00 2.009e+01 5.460e+01 1.484e+02 4.034e+02\n",
            " 1.097e+03 2.981e+03 8.103e+03]\n"
          ]
        }
      ]
    },
    {
      "cell_type": "code",
      "source": [
        "sample_multi = np.arange(9).reshape(3,3)\n",
        "\n",
        "print(sample_multi)\n",
        "\n",
        "print('最大値:',sample_multi.max())\n",
        "print('最小値:',sample_multi.min())\n",
        "print('平均値:',sample_multi.mean())\n",
        "print('合計:', sample_multi.sum())\n",
        "\n",
        "print('行の合計:', sample_multi.sum(axis = 1))\n",
        "print('列の合計:', sample_multi.sum(axis = 0))"
      ],
      "metadata": {
        "colab": {
          "base_uri": "https://localhost:8080/"
        },
        "id": "0iRLQ2FiULRR",
        "outputId": "ae2438c4-16a5-4d19-c728-89adb671cd4d"
      },
      "execution_count": 15,
      "outputs": [
        {
          "output_type": "stream",
          "name": "stdout",
          "text": [
            "[[0 1 2]\n",
            " [3 4 5]\n",
            " [6 7 8]]\n",
            "最大値: 8\n",
            "最小値: 0\n",
            "平均値: 4.0\n",
            "合計: 36\n",
            "行の合計: [ 3 12 21]\n",
            "列の合計: [ 9 12 15]\n"
          ]
        }
      ]
    },
    {
      "cell_type": "code",
      "source": [
        "cond_data = np.array([True, True, False, False, True])\n",
        "print('Trueが少なくても1つあるか:', cond_data.any())\n",
        "print('全てTrueかどうか:', cond_data.all())"
      ],
      "metadata": {
        "colab": {
          "base_uri": "https://localhost:8080/"
        },
        "id": "G91rqXl2VeQ-",
        "outputId": "62932023-5f82-40a8-bbd4-19be5b0939ec"
      },
      "execution_count": 16,
      "outputs": [
        {
          "output_type": "stream",
          "name": "stdout",
          "text": [
            "Trueが少なくても1つあるか: True\n",
            "全てTrueかどうか: False\n"
          ]
        }
      ]
    },
    {
      "cell_type": "code",
      "source": [
        "sample_multi = np.arange(9).reshape(3,3)\n",
        "print(sample_multi)\n",
        "\n",
        "print('5より大きい数字がいくつあるか:',(sample_multi>5).sum())"
      ],
      "metadata": {
        "colab": {
          "base_uri": "https://localhost:8080/"
        },
        "id": "dtgPW81zXU93",
        "outputId": "c00fbd45-3bc6-4c8c-a197-74cfbe439e2a"
      },
      "execution_count": 17,
      "outputs": [
        {
          "output_type": "stream",
          "name": "stdout",
          "text": [
            "[[0 1 2]\n",
            " [3 4 5]\n",
            " [6 7 8]]\n",
            "5より大きい数字がいくつあるか: 3\n"
          ]
        }
      ]
    },
    {
      "cell_type": "code",
      "source": [
        "sample_multi = np.arange(9).reshape(3,3)\n",
        "\n",
        "print('対角成分:', np.diag(sample_multi))\n",
        "print('対角成分の和:', np.trace(sample_multi))"
      ],
      "metadata": {
        "colab": {
          "base_uri": "https://localhost:8080/"
        },
        "id": "h3HF71o4YWAO",
        "outputId": "2605262e-d494-4de2-bdde-b9253aa083f9"
      },
      "execution_count": 18,
      "outputs": [
        {
          "output_type": "stream",
          "name": "stdout",
          "text": [
            "対角成分: [0 4 8]\n",
            "対角成分の和: 12\n"
          ]
        }
      ]
    },
    {
      "cell_type": "code",
      "source": [
        "sample_multi2 = np.arange(16).reshape(4,4)\n",
        "\n",
        "print('平方根:',np.sqrt(sample_multi2))"
      ],
      "metadata": {
        "colab": {
          "base_uri": "https://localhost:8080/"
        },
        "id": "i_tmcgurZJPE",
        "outputId": "5a7f7529-d919-42b9-b003-5227f46c2658"
      },
      "execution_count": 19,
      "outputs": [
        {
          "output_type": "stream",
          "name": "stdout",
          "text": [
            "平方根: [[0.    1.    1.414 1.732]\n",
            " [2.    2.236 2.449 2.646]\n",
            " [2.828 3.    3.162 3.317]\n",
            " [3.464 3.606 3.742 3.873]]\n"
          ]
        }
      ]
    },
    {
      "cell_type": "code",
      "source": [
        "print('最大値:', sample_multi2.max())\n",
        "print('最小値:', sample_multi2.min())\n",
        "print('合計値:', sample_multi2.sum())\n",
        "print('平均値:', sample_multi2.mean())"
      ],
      "metadata": {
        "colab": {
          "base_uri": "https://localhost:8080/"
        },
        "id": "FTw4nXxlZz07",
        "outputId": "d67a416c-fcf6-42c3-99ad-16d755065d46"
      },
      "execution_count": 20,
      "outputs": [
        {
          "output_type": "stream",
          "name": "stdout",
          "text": [
            "最大値: 15\n",
            "最小値: 0\n",
            "合計値: 120\n",
            "平均値: 7.5\n"
          ]
        }
      ]
    },
    {
      "cell_type": "code",
      "source": [
        "print('対角成分の和:', np.trace(sample_multi2))"
      ],
      "metadata": {
        "colab": {
          "base_uri": "https://localhost:8080/"
        },
        "id": "hUxDsNYHZ92G",
        "outputId": "df4486ce-32af-4854-d7a8-cd137e68c901"
      },
      "execution_count": 21,
      "outputs": [
        {
          "output_type": "stream",
          "name": "stdout",
          "text": [
            "対角成分の和: 30\n"
          ]
        }
      ]
    },
    {
      "cell_type": "code",
      "source": [
        "sample_array = np.arange(10)\n",
        "sample_array"
      ],
      "metadata": {
        "colab": {
          "base_uri": "https://localhost:8080/"
        },
        "id": "bd4KpFkuah5w",
        "outputId": "72aa56ce-c971-4467-8661-cb01bdf9136b"
      },
      "execution_count": 22,
      "outputs": [
        {
          "output_type": "execute_result",
          "data": {
            "text/plain": [
              "array([0, 1, 2, 3, 4, 5, 6, 7, 8, 9])"
            ]
          },
          "metadata": {},
          "execution_count": 22
        }
      ]
    },
    {
      "cell_type": "code",
      "source": [
        "sample_array2 = sample_array.reshape(2,5)\n",
        "sample_array2"
      ],
      "metadata": {
        "colab": {
          "base_uri": "https://localhost:8080/"
        },
        "id": "GMPv9cmFa_4c",
        "outputId": "d5e2130b-74bf-41b1-ba5d-d65374526c1f"
      },
      "execution_count": 23,
      "outputs": [
        {
          "output_type": "execute_result",
          "data": {
            "text/plain": [
              "array([[0, 1, 2, 3, 4],\n",
              "       [5, 6, 7, 8, 9]])"
            ]
          },
          "metadata": {},
          "execution_count": 23
        }
      ]
    },
    {
      "cell_type": "markdown",
      "source": [
        "reshape(X,Y)はX行Y列の行列に再形成する"
      ],
      "metadata": {
        "id": "du1FmP5ybOUl"
      }
    },
    {
      "cell_type": "code",
      "source": [
        "sample_array2.reshape(5,2)"
      ],
      "metadata": {
        "colab": {
          "base_uri": "https://localhost:8080/"
        },
        "id": "4Qmda6HGbM5V",
        "outputId": "a5272f70-b4a1-4514-d042-004f0c5792c1"
      },
      "execution_count": 24,
      "outputs": [
        {
          "output_type": "execute_result",
          "data": {
            "text/plain": [
              "array([[0, 1],\n",
              "       [2, 3],\n",
              "       [4, 5],\n",
              "       [6, 7],\n",
              "       [8, 9]])"
            ]
          },
          "metadata": {},
          "execution_count": 24
        }
      ]
    },
    {
      "cell_type": "code",
      "source": [
        "sample_array3 = np.array([[1,2,3],[4,5,6]])\n",
        "sample_array4 = np.array([[7,8,9],[10,11,12]])\n",
        "\n",
        "print(sample_array3)\n",
        "print(sample_array4)\n",
        "\n",
        "#行方向(縦方向)に結合\n",
        "np.concatenate([sample_array3,sample_array4],axis = 0)"
      ],
      "metadata": {
        "colab": {
          "base_uri": "https://localhost:8080/"
        },
        "id": "NYOPi73dbft8",
        "outputId": "bdaeb6de-adb1-4c89-d0eb-2c841b0fbed9"
      },
      "execution_count": 25,
      "outputs": [
        {
          "output_type": "stream",
          "name": "stdout",
          "text": [
            "[[1 2 3]\n",
            " [4 5 6]]\n",
            "[[ 7  8  9]\n",
            " [10 11 12]]\n"
          ]
        },
        {
          "output_type": "execute_result",
          "data": {
            "text/plain": [
              "array([[ 1,  2,  3],\n",
              "       [ 4,  5,  6],\n",
              "       [ 7,  8,  9],\n",
              "       [10, 11, 12]])"
            ]
          },
          "metadata": {},
          "execution_count": 25
        }
      ]
    },
    {
      "cell_type": "code",
      "source": [
        "np.vstack((sample_array3, sample_array4))"
      ],
      "metadata": {
        "colab": {
          "base_uri": "https://localhost:8080/"
        },
        "id": "9AQMwp2ecOsZ",
        "outputId": "f8d011d4-5d58-43e6-b84c-ca9f0c87850e"
      },
      "execution_count": 26,
      "outputs": [
        {
          "output_type": "execute_result",
          "data": {
            "text/plain": [
              "array([[ 1,  2,  3],\n",
              "       [ 4,  5,  6],\n",
              "       [ 7,  8,  9],\n",
              "       [10, 11, 12]])"
            ]
          },
          "metadata": {},
          "execution_count": 26
        }
      ]
    },
    {
      "cell_type": "code",
      "source": [
        "#列方向(横方向)に結合\n",
        "np.concatenate([sample_array3, sample_array4], axis = 1)"
      ],
      "metadata": {
        "colab": {
          "base_uri": "https://localhost:8080/"
        },
        "id": "1Tn9JXbTczqS",
        "outputId": "dd4b72d2-62fb-437c-dd96-8b69cdbf2d4a"
      },
      "execution_count": 27,
      "outputs": [
        {
          "output_type": "execute_result",
          "data": {
            "text/plain": [
              "array([[ 1,  2,  3,  7,  8,  9],\n",
              "       [ 4,  5,  6, 10, 11, 12]])"
            ]
          },
          "metadata": {},
          "execution_count": 27
        }
      ]
    },
    {
      "cell_type": "code",
      "source": [
        "np.hstack((sample_array3, sample_array4))"
      ],
      "metadata": {
        "colab": {
          "base_uri": "https://localhost:8080/"
        },
        "id": "Jhi02R2PbcPi",
        "outputId": "443473a3-6bf9-4466-b99a-8d573377768d"
      },
      "execution_count": 28,
      "outputs": [
        {
          "output_type": "execute_result",
          "data": {
            "text/plain": [
              "array([[ 1,  2,  3,  7,  8,  9],\n",
              "       [ 4,  5,  6, 10, 11, 12]])"
            ]
          },
          "metadata": {},
          "execution_count": 28
        }
      ]
    },
    {
      "cell_type": "code",
      "source": [
        "sample_array3 = np.array([[1,2,3],[4,5,6]])\n",
        "sample_array4 = np.array([[7,8,9],[10,11,12]])\n",
        "\n",
        "sample_array_vstack = np.vstack((sample_array3, sample_array4))\n",
        "sample_array_vstack"
      ],
      "metadata": {
        "colab": {
          "base_uri": "https://localhost:8080/"
        },
        "id": "2ve03jmrbxdv",
        "outputId": "e7746f3f-329e-45df-d34f-34a9ba9ba193"
      },
      "execution_count": 29,
      "outputs": [
        {
          "output_type": "execute_result",
          "data": {
            "text/plain": [
              "array([[ 1,  2,  3],\n",
              "       [ 4,  5,  6],\n",
              "       [ 7,  8,  9],\n",
              "       [10, 11, 12]])"
            ]
          },
          "metadata": {},
          "execution_count": 29
        }
      ]
    },
    {
      "cell_type": "code",
      "source": [
        "first, second, third = np.split(sample_array_vstack, [1,3])\n",
        "\n",
        "print(first)"
      ],
      "metadata": {
        "colab": {
          "base_uri": "https://localhost:8080/"
        },
        "id": "b5WAwQd4cPQj",
        "outputId": "f1aee85f-7e4b-46ca-ab22-7a7c8459b18c"
      },
      "execution_count": 30,
      "outputs": [
        {
          "output_type": "stream",
          "name": "stdout",
          "text": [
            "[[1 2 3]]\n"
          ]
        }
      ]
    },
    {
      "cell_type": "markdown",
      "source": [
        "np.split[1,3] は0〜1の手前まで , 1〜3の手前まで, 3〜の3つに分解する"
      ],
      "metadata": {
        "id": "NSHlB5xlc2p3"
      }
    },
    {
      "cell_type": "code",
      "source": [
        "print(second)"
      ],
      "metadata": {
        "colab": {
          "base_uri": "https://localhost:8080/"
        },
        "id": "h6aSltJRcqgq",
        "outputId": "d6bfeda8-8916-4ac7-9558-50c7ccd2baa2"
      },
      "execution_count": 31,
      "outputs": [
        {
          "output_type": "stream",
          "name": "stdout",
          "text": [
            "[[4 5 6]\n",
            " [7 8 9]]\n"
          ]
        }
      ]
    },
    {
      "cell_type": "code",
      "source": [
        "print(third)"
      ],
      "metadata": {
        "colab": {
          "base_uri": "https://localhost:8080/"
        },
        "id": "mutWv70bcvpY",
        "outputId": "bb0b8c16-e4e5-430b-cc71-6ee477e188e5"
      },
      "execution_count": 32,
      "outputs": [
        {
          "output_type": "stream",
          "name": "stdout",
          "text": [
            "[[10 11 12]]\n"
          ]
        }
      ]
    },
    {
      "cell_type": "code",
      "source": [
        "second[0]"
      ],
      "metadata": {
        "colab": {
          "base_uri": "https://localhost:8080/"
        },
        "id": "VpdQ7lkgcyAJ",
        "outputId": "4e0cd790-716c-4c47-b57c-6327bc60676a"
      },
      "execution_count": 33,
      "outputs": [
        {
          "output_type": "execute_result",
          "data": {
            "text/plain": [
              "array([4, 5, 6])"
            ]
          },
          "metadata": {},
          "execution_count": 33
        }
      ]
    },
    {
      "cell_type": "code",
      "source": [
        "sample_array5 = np.array([[13, 14, 15],[16, 17, 18],[19, 20, 21]])\n",
        "sample_array_vstack2 = np.vstack((sample_array3, sample_array4, sample_array5))\n",
        "\n",
        "sample_array_vstack2"
      ],
      "metadata": {
        "colab": {
          "base_uri": "https://localhost:8080/"
        },
        "id": "gHbPxGhCdiXj",
        "outputId": "2caaf2ba-4d35-4407-8f55-3a4ba8628dad"
      },
      "execution_count": 34,
      "outputs": [
        {
          "output_type": "execute_result",
          "data": {
            "text/plain": [
              "array([[ 1,  2,  3],\n",
              "       [ 4,  5,  6],\n",
              "       [ 7,  8,  9],\n",
              "       [10, 11, 12],\n",
              "       [13, 14, 15],\n",
              "       [16, 17, 18],\n",
              "       [19, 20, 21]])"
            ]
          },
          "metadata": {},
          "execution_count": 34
        }
      ]
    },
    {
      "cell_type": "code",
      "source": [
        "first, second, third, fourth = np.split(sample_array_vstack2, [2,3,5])\n",
        "\n",
        "print('1つ目:\\n',first,'\\n')\n",
        "print('2つ目:\\n',second,'\\n')\n",
        "print('3つ目:\\n',third,'\\n')\n",
        "print('4つ目:\\n',fourth,'\\n')"
      ],
      "metadata": {
        "colab": {
          "base_uri": "https://localhost:8080/"
        },
        "id": "vfO1401ZePfM",
        "outputId": "ec8efbee-76b2-475d-8934-20857fa461d0"
      },
      "execution_count": 35,
      "outputs": [
        {
          "output_type": "stream",
          "name": "stdout",
          "text": [
            "1つ目:\n",
            " [[1 2 3]\n",
            " [4 5 6]] \n",
            "\n",
            "2つ目:\n",
            " [[7 8 9]] \n",
            "\n",
            "3つ目:\n",
            " [[10 11 12]\n",
            " [13 14 15]] \n",
            "\n",
            "4つ目:\n",
            " [[16 17 18]\n",
            " [19 20 21]] \n",
            "\n"
          ]
        }
      ]
    },
    {
      "cell_type": "code",
      "source": [
        "third[1]"
      ],
      "metadata": {
        "colab": {
          "base_uri": "https://localhost:8080/"
        },
        "id": "8PI4el1RfOp5",
        "outputId": "94a421de-0b0b-4089-a590-60bda0cba564"
      },
      "execution_count": 36,
      "outputs": [
        {
          "output_type": "execute_result",
          "data": {
            "text/plain": [
              "array([13, 14, 15])"
            ]
          },
          "metadata": {},
          "execution_count": 36
        }
      ]
    },
    {
      "cell_type": "code",
      "source": [
        "first.repeat(5)"
      ],
      "metadata": {
        "colab": {
          "base_uri": "https://localhost:8080/"
        },
        "id": "i4fNZ1Fqfkcw",
        "outputId": "e8a9273b-4175-46ad-ec23-286b42b450fc"
      },
      "execution_count": 37,
      "outputs": [
        {
          "output_type": "execute_result",
          "data": {
            "text/plain": [
              "array([1, 1, 1, 1, 1, 2, 2, 2, 2, 2, 3, 3, 3, 3, 3, 4, 4, 4, 4, 4, 5, 5,\n",
              "       5, 5, 5, 6, 6, 6, 6, 6])"
            ]
          },
          "metadata": {},
          "execution_count": 37
        }
      ]
    },
    {
      "cell_type": "code",
      "source": [
        "sample_array = np.arange(10)\n",
        "sample_array"
      ],
      "metadata": {
        "colab": {
          "base_uri": "https://localhost:8080/"
        },
        "id": "TKA5CZY_ftUX",
        "outputId": "2822f510-b077-47f8-e7e3-d0e08dfc1e6e"
      },
      "execution_count": 38,
      "outputs": [
        {
          "output_type": "execute_result",
          "data": {
            "text/plain": [
              "array([0, 1, 2, 3, 4, 5, 6, 7, 8, 9])"
            ]
          },
          "metadata": {},
          "execution_count": 38
        }
      ]
    },
    {
      "cell_type": "code",
      "source": [
        "sample_array + 3"
      ],
      "metadata": {
        "colab": {
          "base_uri": "https://localhost:8080/"
        },
        "id": "o9EExfgff4-R",
        "outputId": "1768dc68-0fb8-4e52-e710-2b96c88491a5"
      },
      "execution_count": 39,
      "outputs": [
        {
          "output_type": "execute_result",
          "data": {
            "text/plain": [
              "array([ 3,  4,  5,  6,  7,  8,  9, 10, 11, 12])"
            ]
          },
          "metadata": {},
          "execution_count": 39
        }
      ]
    },
    {
      "cell_type": "code",
      "source": [
        "sample_array1 = np.arange(12).reshape(3,4)\n",
        "sample_array1"
      ],
      "metadata": {
        "colab": {
          "base_uri": "https://localhost:8080/"
        },
        "id": "MXVnrFZOgEOV",
        "outputId": "25c06b45-65a1-4868-fba9-f51f1ec1b86d"
      },
      "execution_count": 40,
      "outputs": [
        {
          "output_type": "execute_result",
          "data": {
            "text/plain": [
              "array([[ 0,  1,  2,  3],\n",
              "       [ 4,  5,  6,  7],\n",
              "       [ 8,  9, 10, 11]])"
            ]
          },
          "metadata": {},
          "execution_count": 40
        }
      ]
    },
    {
      "cell_type": "code",
      "source": [
        "sample_array2 = np.arange(12).reshape(3,4)\n",
        "sample_array2"
      ],
      "metadata": {
        "colab": {
          "base_uri": "https://localhost:8080/"
        },
        "id": "EYm4HzAygU_j",
        "outputId": "a3a52014-f739-4a07-83d4-496c327d798c"
      },
      "execution_count": 41,
      "outputs": [
        {
          "output_type": "execute_result",
          "data": {
            "text/plain": [
              "array([[ 0,  1,  2,  3],\n",
              "       [ 4,  5,  6,  7],\n",
              "       [ 8,  9, 10, 11]])"
            ]
          },
          "metadata": {},
          "execution_count": 41
        }
      ]
    },
    {
      "cell_type": "code",
      "source": [
        "np.concatenate([sample_array1, sample_array2],axis = 0)"
      ],
      "metadata": {
        "colab": {
          "base_uri": "https://localhost:8080/"
        },
        "id": "0h9KCC1Lgn95",
        "outputId": "9ee8724a-8154-4cf3-9b14-d62190e553e8"
      },
      "execution_count": 42,
      "outputs": [
        {
          "output_type": "execute_result",
          "data": {
            "text/plain": [
              "array([[ 0,  1,  2,  3],\n",
              "       [ 4,  5,  6,  7],\n",
              "       [ 8,  9, 10, 11],\n",
              "       [ 0,  1,  2,  3],\n",
              "       [ 4,  5,  6,  7],\n",
              "       [ 8,  9, 10, 11]])"
            ]
          },
          "metadata": {},
          "execution_count": 42
        }
      ]
    },
    {
      "cell_type": "code",
      "source": [
        "np.concatenate([sample_array1, sample_array2],axis = 1)"
      ],
      "metadata": {
        "colab": {
          "base_uri": "https://localhost:8080/"
        },
        "id": "YwRIZXFthCxI",
        "outputId": "db769703-e08e-42d1-a8a9-9f1da47ac155"
      },
      "execution_count": 43,
      "outputs": [
        {
          "output_type": "execute_result",
          "data": {
            "text/plain": [
              "array([[ 0,  1,  2,  3,  0,  1,  2,  3],\n",
              "       [ 4,  5,  6,  7,  4,  5,  6,  7],\n",
              "       [ 8,  9, 10, 11,  8,  9, 10, 11]])"
            ]
          },
          "metadata": {},
          "execution_count": 43
        }
      ]
    },
    {
      "cell_type": "code",
      "source": [
        "np.vstack((sample_array1, sample_array2))"
      ],
      "metadata": {
        "colab": {
          "base_uri": "https://localhost:8080/"
        },
        "id": "Akb6ftAphRDQ",
        "outputId": "8e7d108b-4ec3-4408-c9c1-e6fcd4635484"
      },
      "execution_count": 44,
      "outputs": [
        {
          "output_type": "execute_result",
          "data": {
            "text/plain": [
              "array([[ 0,  1,  2,  3],\n",
              "       [ 4,  5,  6,  7],\n",
              "       [ 8,  9, 10, 11],\n",
              "       [ 0,  1,  2,  3],\n",
              "       [ 4,  5,  6,  7],\n",
              "       [ 8,  9, 10, 11]])"
            ]
          },
          "metadata": {},
          "execution_count": 44
        }
      ]
    },
    {
      "cell_type": "code",
      "source": [
        "np.hstack((sample_array1, sample_array2))"
      ],
      "metadata": {
        "colab": {
          "base_uri": "https://localhost:8080/"
        },
        "id": "BmT_T7gNhsjr",
        "outputId": "55501bbf-9ce8-4a3b-aaeb-9e1bef0bcf62"
      },
      "execution_count": 45,
      "outputs": [
        {
          "output_type": "execute_result",
          "data": {
            "text/plain": [
              "array([[ 0,  1,  2,  3,  0,  1,  2,  3],\n",
              "       [ 4,  5,  6,  7,  4,  5,  6,  7],\n",
              "       [ 8,  9, 10, 11,  8,  9, 10, 11]])"
            ]
          },
          "metadata": {},
          "execution_count": 45
        }
      ]
    },
    {
      "cell_type": "code",
      "source": [
        "sample_list = [1, 2, 3, 4, 5]"
      ],
      "metadata": {
        "id": "pq6nDDHIhzkh"
      },
      "execution_count": 46,
      "outputs": []
    },
    {
      "cell_type": "code",
      "source": [
        "np.array(sample_list) + 3"
      ],
      "metadata": {
        "colab": {
          "base_uri": "https://localhost:8080/"
        },
        "id": "PKZJdeuVh9M4",
        "outputId": "d1c1fded-d936-4597-be30-e41341dc78da"
      },
      "execution_count": 47,
      "outputs": [
        {
          "output_type": "execute_result",
          "data": {
            "text/plain": [
              "array([4, 5, 6, 7, 8])"
            ]
          },
          "metadata": {},
          "execution_count": 47
        }
      ]
    },
    {
      "cell_type": "code",
      "source": [
        "#開始0,終了10, 項目11の等間隔数列を生成\n",
        "x = np.linspace(0,10, num = 11, endpoint = True)\n",
        "y = np.cos(-x**2/5.0)\n",
        "\n",
        "plt.plot(x,y,'o')\n",
        "plt.grid(True)"
      ],
      "metadata": {
        "colab": {
          "base_uri": "https://localhost:8080/",
          "height": 430
        },
        "id": "y_tiy4HliFaY",
        "outputId": "dd9eaf62-e674-4047-ac65-e971389e9e9b"
      },
      "execution_count": 48,
      "outputs": [
        {
          "output_type": "display_data",
          "data": {
            "text/plain": [
              "<Figure size 640x480 with 1 Axes>"
            ],
            "image/png": "[encoded data removed]"
          },
          "metadata": {}
        }
      ]
    },
    {
      "cell_type": "code",
      "source": [
        "from scipy import interpolate\n",
        "\n",
        "#線形補間\n",
        "f = interpolate.interp1d(x, y, 'linear')\n",
        "plt.plot(x, f(x), '-')\n",
        "plt.grid(True)"
      ],
      "metadata": {
        "colab": {
          "base_uri": "https://localhost:8080/",
          "height": 430
        },
        "id": "ZVJ519SSjnJr",
        "outputId": "ae3caa65-6c12-40ed-a079-682e9c5520f2"
      },
      "execution_count": 49,
      "outputs": [
        {
          "output_type": "display_data",
          "data": {
            "text/plain": [
              "<Figure size 640x480 with 1 Axes>"
            ],
            "image/png": "[encoded data removed]"
          },
          "metadata": {}
        }
      ]
    },
    {
      "cell_type": "code",
      "source": [
        "#スプライン3次補間\n",
        "f2 = interpolate.interp1d(x, y, 'cubic')\n",
        "\n",
        "xnew = np.linspace(0, 10, num = 30, endpoint = True)\n",
        "\n",
        "plt.plot(x, y, 'o', xnew,f(xnew),'--', xnew, f2(xnew),'-')\n",
        "\n",
        "plt.legend(['data','linear', 'cubic'], loc = 'best')\n",
        "plt.grid(True)"
      ],
      "metadata": {
        "colab": {
          "base_uri": "https://localhost:8080/",
          "height": 430
        },
        "id": "UogdJQQ0kSpl",
        "outputId": "03730fb7-cfe9-4d35-9ba8-abb1de1902f1"
      },
      "execution_count": 50,
      "outputs": [
        {
          "output_type": "display_data",
          "data": {
            "text/plain": [
              "<Figure size 640x480 with 1 Axes>"
            ],
            "image/png": "[encoded data removed]"
          },
          "metadata": {}
        }
      ]
    },
    {
      "cell_type": "code",
      "source": [
        "x = np.linspace(0,10, num = 11, endpoint = True)\n",
        "y = np.sin(x**2/5.0)\n",
        "\n",
        "plt.plot(x,y,'o')\n",
        "plt.grid(True)"
      ],
      "metadata": {
        "colab": {
          "base_uri": "https://localhost:8080/",
          "height": 430
        },
        "id": "JfxaC3eUlr3A",
        "outputId": "0d1b0ee6-572d-4894-e90d-6614261de06f"
      },
      "execution_count": 51,
      "outputs": [
        {
          "output_type": "display_data",
          "data": {
            "text/plain": [
              "<Figure size 640x480 with 1 Axes>"
            ],
            "image/png": "[encoded data removed]"
          },
          "metadata": {}
        }
      ]
    },
    {
      "cell_type": "code",
      "source": [
        "from scipy import interpolate\n",
        "\n",
        "#線形補間\n",
        "f = interpolate.interp1d(x, y, 'linear')\n",
        "plt.plot(x, f(x), '-')\n",
        "plt.grid(True)"
      ],
      "metadata": {
        "colab": {
          "base_uri": "https://localhost:8080/",
          "height": 430
        },
        "id": "ev9pu1c_mU68",
        "outputId": "06ddca39-38c8-4362-f7ab-b617aa5c394e"
      },
      "execution_count": 52,
      "outputs": [
        {
          "output_type": "display_data",
          "data": {
            "text/plain": [
              "<Figure size 640x480 with 1 Axes>"
            ],
            "image/png": "[encoded data removed]"
          },
          "metadata": {}
        }
      ]
    },
    {
      "cell_type": "code",
      "source": [
        "f2 = interpolate.interp1d(x,y,'quadratic')\n",
        "plt.plot(xnew, f2(xnew),'-')\n",
        "plt.grid(True)"
      ],
      "metadata": {
        "colab": {
          "base_uri": "https://localhost:8080/",
          "height": 430
        },
        "id": "MwE2oO3VmoEw",
        "outputId": "5086ac63-6d40-4916-8334-41fa4d389f90"
      },
      "execution_count": 53,
      "outputs": [
        {
          "output_type": "display_data",
          "data": {
            "text/plain": [
              "<Figure size 640x480 with 1 Axes>"
            ],
            "image/png": "[encoded data removed]"
          },
          "metadata": {}
        }
      ]
    },
    {
      "cell_type": "code",
      "source": [
        "f3 = interpolate.interp1d(x,y,'cubic')\n",
        "plt.plot(xnew, f3(xnew),'-')\n",
        "plt.grid(True)"
      ],
      "metadata": {
        "colab": {
          "base_uri": "https://localhost:8080/",
          "height": 430
        },
        "id": "sjgshbTOm6aK",
        "outputId": "c727ef36-2ac5-40a3-9183-6b6b0acd7b03"
      },
      "execution_count": 54,
      "outputs": [
        {
          "output_type": "display_data",
          "data": {
            "text/plain": [
              "<Figure size 640x480 with 1 Axes>"
            ],
            "image/png": "[encoded data removed]"
          },
          "metadata": {}
        }
      ]
    },
    {
      "cell_type": "code",
      "source": [
        "#特異値分解 リッジ回帰 主成分分析　深層学習\n",
        "A =np.array([[1,2,3,4,5], [6,7,8,9,10]])\n",
        "\n",
        "#特異値分解の関数 linalg.svd\n",
        "U, s, Vs = sp.linalg.svd(A)\n",
        "m, n = A.shape\n",
        "\n",
        "S = sp.linalg.diagsvd(s,m,n)\n",
        "\n",
        "print('U.S.V* = \\n', U@S@Vs)\n",
        "print(U)"
      ],
      "metadata": {
        "colab": {
          "base_uri": "https://localhost:8080/"
        },
        "id": "Yt9Ogrsvnd-q",
        "outputId": "8de37fb8-2214-4c33-a0ab-fc80ec20b94f"
      },
      "execution_count": 55,
      "outputs": [
        {
          "output_type": "stream",
          "name": "stdout",
          "text": [
            "U.S.V* = \n",
            " [[ 1.  2.  3.  4.  5.]\n",
            " [ 6.  7.  8.  9. 10.]]\n",
            "[[-0.37  -0.929]\n",
            " [-0.929  0.37 ]]\n"
          ]
        }
      ]
    },
    {
      "cell_type": "code",
      "source": [
        "#LU分解\n",
        "A = np.identity(5)\n",
        "A[0,:] = 1\n",
        "A[:,0] = 1\n",
        "A[0,0] = 5\n",
        "b = np.ones(5)\n",
        "\n",
        "#正方行列をLU分解する\n",
        "(LU, piv) = sp.linalg.lu_factor(A)\n",
        "\n",
        "L = np.identity(5) + np.tril(LU, -1)\n",
        "U = np.triu(LU)\n",
        "P = np.identity(5)[piv]\n",
        "\n",
        "#解を求める\n",
        "x = sp.linalg.lu_solve((LU,piv),b)\n",
        "x"
      ],
      "metadata": {
        "colab": {
          "base_uri": "https://localhost:8080/"
        },
        "id": "YtUXS8Pmp0ll",
        "outputId": "3a2e8fda-432c-4278-9d2c-f119c0787696"
      },
      "execution_count": 56,
      "outputs": [
        {
          "output_type": "execute_result",
          "data": {
            "text/plain": [
              "array([-3.,  4.,  4.,  4.,  4.])"
            ]
          },
          "metadata": {},
          "execution_count": 56
        }
      ]
    },
    {
      "cell_type": "code",
      "source": [
        "#コレスキー分解\n",
        "A = np.array([[7,-1,0,1],\n",
        "              [-1,9,-2,2],\n",
        "              [0,-2,8,-3],\n",
        "              [1,2,-3,10]])\n",
        "\n",
        "b = np.array([5,20,0,20])\n",
        "\n",
        "L = sp.linalg.cholesky(A)\n",
        "\n",
        "t = sp.linalg.solve(L.T.conj(),b)\n",
        "x = sp.linalg.solve(L,t)\n",
        "x"
      ],
      "metadata": {
        "colab": {
          "base_uri": "https://localhost:8080/"
        },
        "id": "ooKNoDK0rqFz",
        "outputId": "954caf46-a0f7-4e2b-9581-208bd0e6f746"
      },
      "execution_count": 57,
      "outputs": [
        {
          "output_type": "execute_result",
          "data": {
            "text/plain": [
              "array([0.758, 2.168, 1.241, 1.863])"
            ]
          },
          "metadata": {},
          "execution_count": 57
        }
      ]
    },
    {
      "cell_type": "code",
      "source": [
        "np.dot(A,x)"
      ],
      "metadata": {
        "colab": {
          "base_uri": "https://localhost:8080/"
        },
        "id": "uGEKOJl5tJQw",
        "outputId": "983948cb-9697-4a7d-89df-75858f2ead22"
      },
      "execution_count": 58,
      "outputs": [
        {
          "output_type": "execute_result",
          "data": {
            "text/plain": [
              "array([5.000e+00, 2.000e+01, 1.776e-15, 2.000e+01])"
            ]
          },
          "metadata": {},
          "execution_count": 58
        }
      ]
    },
    {
      "cell_type": "code",
      "source": [
        "from scipy import integrate\n",
        "import math"
      ],
      "metadata": {
        "id": "RwbyODhxtUEH"
      },
      "execution_count": 59,
      "outputs": []
    },
    {
      "cell_type": "code",
      "source": [
        "def calcPi(x):\n",
        "  return 4/(1 + x**2)"
      ],
      "metadata": {
        "id": "4NNwqv_Stx1r"
      },
      "execution_count": 60,
      "outputs": []
    },
    {
      "cell_type": "code",
      "source": [
        "#（積分したい関数,積分範囲の下限,上限）\n",
        "integrate.quad(calcPi, 0, 1)"
      ],
      "metadata": {
        "colab": {
          "base_uri": "https://localhost:8080/"
        },
        "id": "czaOCX0nuRnR",
        "outputId": "a2e8e1a3-a889-416f-eb81-72159d59c7cb"
      },
      "execution_count": 61,
      "outputs": [
        {
          "output_type": "execute_result",
          "data": {
            "text/plain": [
              "(3.142, 0.000)"
            ]
          },
          "metadata": {},
          "execution_count": 61
        }
      ]
    },
    {
      "cell_type": "code",
      "source": [
        "integrate.quad(lambda x: 4/(1 + x**2),0,1)"
      ],
      "metadata": {
        "colab": {
          "base_uri": "https://localhost:8080/"
        },
        "id": "soSEXLTLugOx",
        "outputId": "559e0255-5943-47f9-b553-f5951830c10d"
      },
      "execution_count": 62,
      "outputs": [
        {
          "output_type": "execute_result",
          "data": {
            "text/plain": [
              "(3.142, 0.000)"
            ]
          },
          "metadata": {},
          "execution_count": 62
        }
      ]
    },
    {
      "cell_type": "code",
      "source": [
        "from numpy import sin\n",
        "integrate.quad(sin, 0, math.pi/1)"
      ],
      "metadata": {
        "colab": {
          "base_uri": "https://localhost:8080/"
        },
        "id": "9Uk9l6yRvB3l",
        "outputId": "405d7268-6ead-4113-e653-2b9b04a77568"
      },
      "execution_count": 63,
      "outputs": [
        {
          "output_type": "execute_result",
          "data": {
            "text/plain": [
              "(2.000, 0.000)"
            ]
          },
          "metadata": {},
          "execution_count": 63
        }
      ]
    },
    {
      "cell_type": "code",
      "source": [
        "#2重積分\n",
        "def I(n):\n",
        "  return integrate.dblquad(lambda t, x: np.exp(-x*t)/t**n,0,np.inf,lambda x: 1, lambda x: np.inf)\n",
        "\n",
        "print(I(1))\n",
        "print(I(2))\n",
        "print(I(3))\n",
        "print(I(4))"
      ],
      "metadata": {
        "colab": {
          "base_uri": "https://localhost:8080/"
        },
        "id": "E3ixywn5vkYd",
        "outputId": "e6ab385d-0495-4fff-918c-dbc9995c47b5"
      },
      "execution_count": 64,
      "outputs": [
        {
          "output_type": "stream",
          "name": "stdout",
          "text": [
            "(1.0000000000048965, 6.360750360104306e-08)\n",
            "(0.4999999999985751, 1.3894083651858995e-08)\n",
            "(0.33333333325010883, 1.3888461883425516e-08)\n",
            "(0.2500000000043577, 1.2983033469368098e-08)\n"
          ]
        }
      ]
    },
    {
      "cell_type": "code",
      "source": [
        "import numpy as np\n",
        "from scipy.integrate import odeint\n",
        "import matplotlib.pyplot as plt\n",
        "from mpl_toolkits.mplot3d import Axes3D\n",
        "\n",
        "\n",
        "#ローレンツ方程式\n",
        "def lorenz_func(v,t,p,r,b):\n",
        "  return[-p*v[0] + p*v[1], -v[0]*v[2] + r*v[0] - v[1], v[0]*v[1]-b*v[2]]"
      ],
      "metadata": {
        "id": "bwkK0457wjA9"
      },
      "execution_count": 65,
      "outputs": []
    },
    {
      "cell_type": "code",
      "source": [
        "#パラメータの設定\n",
        "p = 10\n",
        "r = 28\n",
        "b = 8/3\n",
        "v0 = [0.1,0.1,0.1]\n",
        "t = np.arange(0,100,0.01)\n",
        "\n",
        "v = odeint(lorenz_func, v0, t, args = (p, r, b))\n",
        "\n",
        "fig = plt.figure()\n",
        "ax = fig.add_subplot(111, projection='3d')\n",
        "ax.plot(v[:,0],v[:,1],v[:,2])\n",
        "\n",
        "plt.title('Lorenz')\n",
        "plt.grid(True)"
      ],
      "metadata": {
        "colab": {
          "base_uri": "https://localhost:8080/",
          "height": 438
        },
        "id": "VU2o1ZCAxtnw",
        "outputId": "3f5afa7f-3fd9-436d-fe8d-a0a07e821c51"
      },
      "execution_count": 66,
      "outputs": [
        {
          "output_type": "display_data",
          "data": {
            "text/plain": [
              "<Figure size 640x480 with 1 Axes>"
            ],
            "image/png": "[encoded data removed]"
          },
          "metadata": {}
        }
      ]
    },
    {
      "cell_type": "code",
      "source": [
        "from scipy.optimize import fsolve"
      ],
      "metadata": {
        "id": "lMDxydtXyql5"
      },
      "execution_count": 67,
      "outputs": []
    },
    {
      "cell_type": "code",
      "source": [
        "def f(x):\n",
        "  y = 2 * x**2 + 2 * x - 10\n",
        "  return y"
      ],
      "metadata": {
        "id": "XwB-G9OIzQfy"
      },
      "execution_count": 68,
      "outputs": []
    },
    {
      "cell_type": "code",
      "source": [
        "x = np.linspace(-4,4)\n",
        "plt.plot(x,f(x))\n",
        "plt.plot(x,np.zeros(len(x)))\n",
        "plt.grid(True)"
      ],
      "metadata": {
        "colab": {
          "base_uri": "https://localhost:8080/",
          "height": 430
        },
        "id": "Lw2WjJfXzZqi",
        "outputId": "344477fb-641e-446b-c0f0-d44d6336f178"
      },
      "execution_count": 69,
      "outputs": [
        {
          "output_type": "display_data",
          "data": {
            "text/plain": [
              "<Figure size 640x480 with 1 Axes>"
            ],
            "image/png": "[encoded data removed]"
          },
          "metadata": {}
        }
      ]
    },
    {
      "cell_type": "code",
      "source": [
        "#解は2,-3付近にある\n",
        "x = fsolve(f,2)\n",
        "x"
      ],
      "metadata": {
        "colab": {
          "base_uri": "https://localhost:8080/"
        },
        "id": "B678SunLzrRT",
        "outputId": "491da575-0a05-4700-8385-dda1e4a977ba"
      },
      "execution_count": 70,
      "outputs": [
        {
          "output_type": "execute_result",
          "data": {
            "text/plain": [
              "array([1.791])"
            ]
          },
          "metadata": {},
          "execution_count": 70
        }
      ]
    },
    {
      "cell_type": "code",
      "source": [
        "x = fsolve(f,-3)\n",
        "x"
      ],
      "metadata": {
        "colab": {
          "base_uri": "https://localhost:8080/"
        },
        "id": "HpRddpePz44c",
        "outputId": "7329385c-8d0d-40b9-c7b0-21afeab72fc3"
      },
      "execution_count": 71,
      "outputs": [
        {
          "output_type": "execute_result",
          "data": {
            "text/plain": [
              "array([-2.791])"
            ]
          },
          "metadata": {},
          "execution_count": 71
        }
      ]
    },
    {
      "cell_type": "code",
      "source": [
        "from scipy.optimize import minimize"
      ],
      "metadata": {
        "id": "BtOIBYsHz888"
      },
      "execution_count": 72,
      "outputs": []
    },
    {
      "cell_type": "code",
      "source": [
        "#目的の関数\n",
        "def objective(x):\n",
        "  x1 = x[0]\n",
        "  x2 = x[1]\n",
        "  x3 = x[2]\n",
        "  x4 = x[3]\n",
        "  return x1*x4*(x1+x2+x3)+x3"
      ],
      "metadata": {
        "id": "IcgxV3Z-0I_N"
      },
      "execution_count": 73,
      "outputs": []
    },
    {
      "cell_type": "code",
      "source": [],
      "metadata": {
        "id": "9aj-WT9ANw9H"
      },
      "execution_count": null,
      "outputs": []
    },
    {
      "cell_type": "code",
      "source": [
        "#制約式1\n",
        "def constraint1(x):\n",
        "  return x[0]*x[1]*x[2]*x[3]-25.0\n",
        "\n",
        "#制約式2\n",
        "def constraint2(x):\n",
        "  sum_sq = 40\n",
        "  for i in range(4):\n",
        "    sum_sq = sum_sq - x[i]**2\n",
        "    return sum_sq\n",
        "\n",
        "#初期値\n",
        "x0 = [1,5,5,1]\n",
        "print(objective(x0))"
      ],
      "metadata": {
        "colab": {
          "base_uri": "https://localhost:8080/"
        },
        "id": "7lBP5vKZG3L1",
        "outputId": "ae1bef33-303e-42f8-a8d3-f63279b912c4"
      },
      "execution_count": 74,
      "outputs": [
        {
          "output_type": "stream",
          "name": "stdout",
          "text": [
            "16\n"
          ]
        }
      ]
    },
    {
      "cell_type": "code",
      "source": [
        "b = (1.0,5.0)\n",
        "bnds = (b,b,b,b)\n",
        "con1 = {'type':'ineq','fun':constraint1}\n",
        "con2 = {'type':'ineq','fun':constraint2}\n",
        "cons = [con1,con2]"
      ],
      "metadata": {
        "id": "rX1_DqgKNqad"
      },
      "execution_count": 75,
      "outputs": []
    },
    {
      "cell_type": "code",
      "source": [
        "sol = minimize(objective, x0, method ='SLSQP', bounds = bnds, constraints=cons)\n",
        "print(sol)"
      ],
      "metadata": {
        "colab": {
          "base_uri": "https://localhost:8080/"
        },
        "id": "916WrrFIOXF6",
        "outputId": "8f045552-410e-432b-a933-a991f7630459"
      },
      "execution_count": 76,
      "outputs": [
        {
          "output_type": "stream",
          "name": "stdout",
          "text": [
            "     message: Optimization terminated successfully\n",
            "     success: True\n",
            "      status: 0\n",
            "         fun: 16.0\n",
            "           x: [ 1.000e+00  5.000e+00  5.000e+00  1.000e+00]\n",
            "         nit: 1\n",
            "         jac: [ 1.200e+01  1.000e+00  2.000e+00  1.100e+01]\n",
            "        nfev: 5\n",
            "        njev: 1\n",
            " multipliers: [ 4.400e-01  0.000e+00]\n"
          ]
        }
      ]
    },
    {
      "cell_type": "code",
      "source": [
        "print('Y:',sol.fun)\n",
        "print('X:',sol.x)"
      ],
      "metadata": {
        "colab": {
          "base_uri": "https://localhost:8080/"
        },
        "id": "ZjbTyGNeO4oE",
        "outputId": "12aa9b10-c4e0-4275-f15a-e8d9292943d8"
      },
      "execution_count": 77,
      "outputs": [
        {
          "output_type": "stream",
          "name": "stdout",
          "text": [
            "Y: 16.0\n",
            "X: [1. 5. 5. 1.]\n"
          ]
        }
      ]
    },
    {
      "cell_type": "code",
      "source": [],
      "metadata": {
        "id": "UdMSMHqTPFwU"
      },
      "execution_count": null,
      "outputs": []
    }
  ]
}